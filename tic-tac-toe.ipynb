{
 "cells": [
  {
   "cell_type": "markdown",
   "id": "e003a32a-e66f-4150-8c44-9ebec58ad2e5",
   "metadata": {},
   "source": [
    "# Tic-Tac-Toe Game\r\n",
    "\r\n",
    "## Overview\r\n",
    "This notebook contains a Python implementation of the classic Tic-Tac-Toe game, which allows two players to take turns placing their marks (X or O) on a 3x3 grid.\r\n",
    "\r\n",
    "## Features\r\n",
    "- **Display Board**: The current state of the game is displayed in a user-friendly format.\r\n",
    "- **Check Winner**: The game checks for winning conditions after each move.\r\n",
    "- **Tie Detection**: The game identifies when the board is full, resulting in a tie.\r\n",
    "\r\n",
    "## How to Play\r\n",
    "1. Run the code cell below to start the game.\r\n",
    "2. Players take turns entering their moves by specifying a number from 1 to 9, corresponding to the grid position.\r\n",
    "3. The game will announce the winner or a tie once the conditions are met.\r\n",
    "\r\n",
    "## Notes\r\n",
    "- Ensure to enter valid moves (1-9).\r\n",
    "- Enjoy the game!\r\n",
    " Enjoy the game!\r\n",
    "\r\n",
    "    while True:\r\n",
    "        print_board\r\n"
   ]
  },
  {
   "cell_type": "code",
   "execution_count": 2,
   "id": "90d04c16-6758-4f4d-ad41-a05abc7927c2",
   "metadata": {},
   "outputs": [
    {
     "name": "stdout",
     "output_type": "stream",
     "text": [
      "---------\n",
      "|   |   |   |\n",
      "|   |   |   |\n",
      "|   |   |   |\n",
      "---------\n"
     ]
    },
    {
     "name": "stdin",
     "output_type": "stream",
     "text": [
      "Player X, enter your move (1-9):  1\n"
     ]
    },
    {
     "name": "stdout",
     "output_type": "stream",
     "text": [
      "---------\n",
      "| X |   |   |\n",
      "|   |   |   |\n",
      "|   |   |   |\n",
      "---------\n"
     ]
    },
    {
     "name": "stdin",
     "output_type": "stream",
     "text": [
      "Player O, enter your move (1-9):  5\n"
     ]
    },
    {
     "name": "stdout",
     "output_type": "stream",
     "text": [
      "---------\n",
      "| X |   |   |\n",
      "|   | O |   |\n",
      "|   |   |   |\n",
      "---------\n"
     ]
    },
    {
     "name": "stdin",
     "output_type": "stream",
     "text": [
      "Player X, enter your move (1-9):  3\n"
     ]
    },
    {
     "name": "stdout",
     "output_type": "stream",
     "text": [
      "---------\n",
      "| X |   | X |\n",
      "|   | O |   |\n",
      "|   |   |   |\n",
      "---------\n"
     ]
    },
    {
     "name": "stdin",
     "output_type": "stream",
     "text": [
      "Player O, enter your move (1-9):  2\n"
     ]
    },
    {
     "name": "stdout",
     "output_type": "stream",
     "text": [
      "---------\n",
      "| X | O | X |\n",
      "|   | O |   |\n",
      "|   |   |   |\n",
      "---------\n"
     ]
    },
    {
     "name": "stdin",
     "output_type": "stream",
     "text": [
      "Player X, enter your move (1-9):  5\n"
     ]
    },
    {
     "name": "stdout",
     "output_type": "stream",
     "text": [
      "Invalid move, try again.\n",
      "---------\n",
      "| X | O | X |\n",
      "|   | O |   |\n",
      "|   |   |   |\n",
      "---------\n"
     ]
    },
    {
     "name": "stdin",
     "output_type": "stream",
     "text": [
      "Player X, enter your move (1-9):  8\n"
     ]
    },
    {
     "name": "stdout",
     "output_type": "stream",
     "text": [
      "---------\n",
      "| X | O | X |\n",
      "|   | O |   |\n",
      "|   | X |   |\n",
      "---------\n"
     ]
    },
    {
     "name": "stdin",
     "output_type": "stream",
     "text": [
      "Player O, enter your move (1-9):  4\n"
     ]
    },
    {
     "name": "stdout",
     "output_type": "stream",
     "text": [
      "---------\n",
      "| X | O | X |\n",
      "| O | O |   |\n",
      "|   | X |   |\n",
      "---------\n"
     ]
    },
    {
     "name": "stdin",
     "output_type": "stream",
     "text": [
      "Player X, enter your move (1-9):  9\n"
     ]
    },
    {
     "name": "stdout",
     "output_type": "stream",
     "text": [
      "---------\n",
      "| X | O | X |\n",
      "| O | O |   |\n",
      "|   | X | X |\n",
      "---------\n"
     ]
    },
    {
     "name": "stdin",
     "output_type": "stream",
     "text": [
      "Player O, enter your move (1-9):  6\n"
     ]
    },
    {
     "name": "stdout",
     "output_type": "stream",
     "text": [
      "---------\n",
      "| X | O | X |\n",
      "| O | O | O |\n",
      "|   | X | X |\n",
      "---------\n",
      "Player O wins!\n"
     ]
    }
   ],
   "source": [
    "def print_board(board):\n",
    "    print(\"---------\")\n",
    "    for row in [board[i * 3:(i + 1) * 3] for i in range(3)]:\n",
    "        print(\"| \" + \" | \".join(row) + \" |\")\n",
    "    print(\"---------\")\n",
    "\n",
    "# Function to check if a player has won\n",
    "def check_winner(board, player):\n",
    "    win_combinations = [\n",
    "        [0, 1, 2], [3, 4, 5], [6, 7, 8],  # Rows\n",
    "        [0, 3, 6], [1, 4, 7], [2, 5, 8],  # Columns\n",
    "        [0, 4, 8], [2, 4, 6]              # Diagonals\n",
    "    ]\n",
    "    return any(all(board[i] == player for i in combo) for combo in win_combinations)\n",
    "\n",
    "# Function to check if the board is full\n",
    "def is_board_full(board):\n",
    "    return \" \" not in board\n",
    "\n",
    "# Main function to play the game\n",
    "def play_game():\n",
    "    board = [\" \" for _ in range(9)]  # Create a 3x3 board\n",
    "    current_player = \"X\"\n",
    "\n",
    "    while True:\n",
    "        print_board(board)\n",
    "        move = int(input(f\"Player {current_player}, enter your move (1-9): \")) - 1\n",
    "\n",
    "        if board[move] == \" \":\n",
    "            board[move] = current_player\n",
    "        else:\n",
    "            print(\"Invalid move, try again.\")\n",
    "            continue\n",
    "\n",
    "        # Check if the current player won\n",
    "        if check_winner(board, current_player):\n",
    "            print_board(board)\n",
    "            print(f\"Player {current_player} wins!\")\n",
    "            break\n",
    "\n",
    "        # Check for a tie\n",
    "        if is_board_full(board):\n",
    "            print_board(board)\n",
    "            print(\"It's a tie!\")\n",
    "            break\n",
    "\n",
    "        # Switch player\n",
    "        current_player = \"O\" if current_player == \"X\" else \"X\"\n",
    "\n",
    "# Start the game\n",
    "play_game()"
   ]
  },
  {
   "cell_type": "code",
   "execution_count": null,
   "id": "aab8e53a-1d15-431b-8543-6c3f149cb97b",
   "metadata": {},
   "outputs": [],
   "source": []
  }
 ],
 "metadata": {
  "kernelspec": {
   "display_name": "Python 3 (ipykernel)",
   "language": "python",
   "name": "python3"
  },
  "language_info": {
   "codemirror_mode": {
    "name": "ipython",
    "version": 3
   },
   "file_extension": ".py",
   "mimetype": "text/x-python",
   "name": "python",
   "nbconvert_exporter": "python",
   "pygments_lexer": "ipython3",
   "version": "3.12.4"
  }
 },
 "nbformat": 4,
 "nbformat_minor": 5
}
